{
 "cells": [
  {
   "cell_type": "code",
   "execution_count": 2,
   "metadata": {},
   "outputs": [
    {
     "name": "stdout",
     "output_type": "stream",
     "text": [
      "['oudi', 'ferrari', 'laboghini', 'red bull', 'Koenigsegg CCXR Trevita ', 'Bugatti ']\n"
     ]
    }
   ],
   "source": [
    "cars=['oudi','ferrari','laboghini','red bull','Koenigsegg CCXR Trevita ','Bugatti ']\n",
    "print(cars)"
   ]
  },
  {
   "cell_type": "code",
   "execution_count": 12,
   "metadata": {},
   "outputs": [
    {
     "name": "stdout",
     "output_type": "stream",
     "text": [
      "['Bugatti ', 'Koenigsegg CCXR Trevita ', 'ferrari', 'laboghini', 'oudi', 'red bull']\n"
     ]
    }
   ],
   "source": [
    "cars=['oudi','ferrari','laboghini','red bull','Koenigsegg CCXR Trevita ','Bugatti ']\n",
    "cars.sort()\n",
    "print(cars)"
   ]
  },
  {
   "cell_type": "code",
   "execution_count": 5,
   "metadata": {},
   "outputs": [
    {
     "name": "stdout",
     "output_type": "stream",
     "text": [
      "[1, 2, 3, 4, 5]\n"
     ]
    }
   ],
   "source": [
    "num=[1,2,3,4,5]\n",
    "print(num)"
   ]
  },
  {
   "cell_type": "code",
   "execution_count": 6,
   "metadata": {},
   "outputs": [
    {
     "name": "stdout",
     "output_type": "stream",
     "text": [
      "[1, 2, 3, 4, 5, 6]\n"
     ]
    }
   ],
   "source": [
    "num=[1,2,3,4,5]\n",
    "num.append(6)\n",
    "print(num)"
   ]
  },
  {
   "cell_type": "code",
   "execution_count": 13,
   "metadata": {},
   "outputs": [
    {
     "name": "stdout",
     "output_type": "stream",
     "text": [
      "[1, 2, 3, 4, 5]\n"
     ]
    }
   ],
   "source": [
    "num=[1,2,3,4,5]\n",
    "print(num)"
   ]
  },
  {
   "cell_type": "code",
   "execution_count": 14,
   "metadata": {},
   "outputs": [
    {
     "name": "stdout",
     "output_type": "stream",
     "text": [
      "red bull\n"
     ]
    }
   ],
   "source": [
    "cars=['oudi','ferrari','laboghini','red bull','Koenigsegg CCXR Trevita ','Bugatti ']\n",
    "print(cars[3])"
   ]
  },
  {
   "cell_type": "code",
   "execution_count": 21,
   "metadata": {},
   "outputs": [
    {
     "name": "stdout",
     "output_type": "stream",
     "text": [
      "['red bull', 'Koenigsegg CCXR Trevita ', 'Bugatti ']\n"
     ]
    }
   ],
   "source": [
    "cars=['oudi','ferrari','laboghini','red bull','Koenigsegg CCXR Trevita ','Bugatti ']\n",
    "print(cars[3:300])"
   ]
  },
  {
   "cell_type": "code",
   "execution_count": 24,
   "metadata": {},
   "outputs": [
    {
     "name": "stdout",
     "output_type": "stream",
     "text": [
      "['red bull', 'Koenigsegg CCXR Trevita ']\n"
     ]
    }
   ],
   "source": [
    "cars=['oudi','ferrari','laboghini','red bull','Koenigsegg CCXR Trevita ','Bugatti ']\n",
    "print(cars[3:5])"
   ]
  },
  {
   "cell_type": "code",
   "execution_count": 31,
   "metadata": {},
   "outputs": [
    {
     "name": "stdout",
     "output_type": "stream",
     "text": [
      "Bugatti \n"
     ]
    }
   ],
   "source": [
    "cars=['oudi','ferrari','laboghini','red bull','Koenigsegg CCXR Trevita ','Bugatti ']\n",
    "print(cars[-1])"
   ]
  },
  {
   "cell_type": "code",
   "execution_count": 33,
   "metadata": {},
   "outputs": [
    {
     "name": "stdout",
     "output_type": "stream",
     "text": [
      "[1, 2, 4, 5]\n"
     ]
    }
   ],
   "source": [
    "num=[1,2,3,4,5]\n",
    "del num[2]\n",
    "print(num)"
   ]
  },
  {
   "cell_type": "code",
   "execution_count": 36,
   "metadata": {},
   "outputs": [
    {
     "name": "stdout",
     "output_type": "stream",
     "text": [
      "['ferrari', 'laboghini', 'red bull', 'Koenigsegg CCXR Trevita ', 'Bugatti ']\n"
     ]
    }
   ],
   "source": [
    "cars=['oudi','ferrari','laboghini','red bull','Koenigsegg CCXR Trevita ','Bugatti ']\n",
    "cars.pop(0)\n",
    "print(cars)"
   ]
  },
  {
   "cell_type": "code",
   "execution_count": 37,
   "metadata": {},
   "outputs": [
    {
     "name": "stdout",
     "output_type": "stream",
     "text": [
      "oudi\n"
     ]
    }
   ],
   "source": [
    "cars=['oudi','ferrari','laboghini','red bull','Koenigsegg CCXR Trevita ','Bugatti ']\n",
    "print(cars.pop(0))"
   ]
  },
  {
   "cell_type": "code",
   "execution_count": null,
   "metadata": {},
   "outputs": [],
   "source": []
  }
 ],
 "metadata": {
  "kernelspec": {
   "display_name": "Python 3",
   "language": "python",
   "name": "python3"
  },
  "language_info": {
   "codemirror_mode": {
    "name": "ipython",
    "version": 3
   },
   "file_extension": ".py",
   "mimetype": "text/x-python",
   "name": "python",
   "nbconvert_exporter": "python",
   "pygments_lexer": "ipython3",
   "version": "3.8.6"
  }
 },
 "nbformat": 4,
 "nbformat_minor": 4
}
